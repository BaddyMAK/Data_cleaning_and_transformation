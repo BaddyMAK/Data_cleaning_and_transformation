{
 "cells": [
  {
   "cell_type": "markdown",
   "id": "6ab12974",
   "metadata": {},
   "source": [
    " # Data Cleaning\n",
    " \n",
    "For this notebook, I will be using the following libraries:\n",
    "\n",
    "- pandas for data manipulation.\n",
    "- numpy for mathematical operations.\n",
    "- seaborn and matplotlib for data visualizing.\n",
    "- sklearn for machine learning.\n",
    "- scipy for statistical operations."
   ]
  },
  {
   "cell_type": "markdown",
   "id": "289666ad",
   "metadata": {},
   "source": [
    "## 1- Import the required libraries"
   ]
  },
  {
   "cell_type": "code",
   "execution_count": 1,
   "id": "3436b6ed",
   "metadata": {},
   "outputs": [],
   "source": [
    "# Data manipulation and mathematical operations\n",
    "import pandas as pd\n",
    "import numpy as np \n",
    "\n",
    "# Statistical computations\n",
    "from scipy.stats import norm\n",
    "from scipy import stats\n",
    "\n",
    "# imputation\n",
    "from sklearn.impute import KNNImputer\n",
    "\n",
    "# encoding \n",
    "import category_encoders as ce\n",
    "# Label Encoding\n",
    "from sklearn.preprocessing import LabelEncoder\n",
    "#One hot encoding \n",
    "from sklearn.preprocessing import OneHotEncoder\n",
    "\n",
    "from sklearn.preprocessing import MinMaxScaler "
   ]
  },
  {
   "cell_type": "code",
   "execution_count": 2,
   "id": "a61f5891",
   "metadata": {},
   "outputs": [],
   "source": [
    "# Data visualization \n",
    "\n",
    "%matplotlib inline\n",
    "import seaborn as sns \n",
    "import matplotlib.pylab as plt\n",
    "from matplotlib.pyplot import figure"
   ]
  },
  {
   "cell_type": "code",
   "execution_count": 3,
   "id": "441757c9",
   "metadata": {},
   "outputs": [],
   "source": [
    "import missingno as msno\n",
    "%matplotlib inline"
   ]
  },
  {
   "cell_type": "code",
   "execution_count": 4,
   "id": "5ab6742b",
   "metadata": {},
   "outputs": [],
   "source": [
    "### Define some useful functions \n",
    "#The function is used to determine the type of the column:Categorical or Numerical  \n",
    "def utils_recognize_type(dtf, col, max_cat):\n",
    "    if (dtf[col].dtype == \"O\") | (dtf[col].nunique() < max_cat):\n",
    "        return \"cat\"\n",
    "    else:\n",
    "        return \"num\""
   ]
  },
  {
   "cell_type": "code",
   "execution_count": 5,
   "id": "2a868578",
   "metadata": {},
   "outputs": [],
   "source": [
    "#####################################\n",
    "def outlier_percent(data):\n",
    "    Q1 = data.quantile(0.25)\n",
    "    Q3 = data.quantile(0.75)\n",
    "    IQR = Q3 - Q1\n",
    "    minimum = Q1 - (1.5 * IQR)\n",
    "    maximum = Q3 + (1.5 * IQR)\n",
    "    num_outliers =  np.sum((data < minimum) |(data > maximum))\n",
    "    num_total = data.count()\n",
    "    return (num_outliers/num_total)*100"
   ]
  },
  {
   "cell_type": "markdown",
   "id": "c32bf859",
   "metadata": {},
   "source": [
    "This notebook includes some instructions that should be pursued by any data scientist before applying any machine learning algorithm. It presents all required data cleaning instructions. "
   ]
  },
  {
   "cell_type": "markdown",
   "id": "9b65cd32",
   "metadata": {},
   "source": [
    "## 2- Data reading \n",
    "- The dataset used in this Jupyter notebook is sourced from Kaggle and can be accessed via the following link: https://www.kaggle.com/datasets/budincsevity/szeged-weather.\n",
    "- It contains historical weather data for Szeged, Hungary, spanning from 2006 to 2016."
   ]
  },
  {
   "cell_type": "code",
   "execution_count": 8,
   "id": "d14acffd",
   "metadata": {},
   "outputs": [
    {
     "data": {
      "text/html": [
       "<div>\n",
       "<style scoped>\n",
       "    .dataframe tbody tr th:only-of-type {\n",
       "        vertical-align: middle;\n",
       "    }\n",
       "\n",
       "    .dataframe tbody tr th {\n",
       "        vertical-align: top;\n",
       "    }\n",
       "\n",
       "    .dataframe thead th {\n",
       "        text-align: right;\n",
       "    }\n",
       "</style>\n",
       "<table border=\"1\" class=\"dataframe\">\n",
       "  <thead>\n",
       "    <tr style=\"text-align: right;\">\n",
       "      <th></th>\n",
       "      <th>Formatted Date</th>\n",
       "      <th>Summary</th>\n",
       "      <th>Precip Type</th>\n",
       "      <th>Temperature (C)</th>\n",
       "      <th>Apparent Temperature (C)</th>\n",
       "      <th>Humidity</th>\n",
       "      <th>Wind Speed (km/h)</th>\n",
       "      <th>Wind Bearing (degrees)</th>\n",
       "      <th>Visibility (km)</th>\n",
       "      <th>Loud Cover</th>\n",
       "      <th>Pressure (millibars)</th>\n",
       "      <th>Daily Summary</th>\n",
       "    </tr>\n",
       "  </thead>\n",
       "  <tbody>\n",
       "    <tr>\n",
       "      <th>0</th>\n",
       "      <td>2006-04-01 00:00:00.000 +0200</td>\n",
       "      <td>Partly Cloudy</td>\n",
       "      <td>rain</td>\n",
       "      <td>9.472222</td>\n",
       "      <td>7.388889</td>\n",
       "      <td>0.89</td>\n",
       "      <td>14.1197</td>\n",
       "      <td>251.0</td>\n",
       "      <td>15.8263</td>\n",
       "      <td>0.0</td>\n",
       "      <td>1015.13</td>\n",
       "      <td>Partly cloudy throughout the day.</td>\n",
       "    </tr>\n",
       "    <tr>\n",
       "      <th>1</th>\n",
       "      <td>2006-04-01 01:00:00.000 +0200</td>\n",
       "      <td>Partly Cloudy</td>\n",
       "      <td>rain</td>\n",
       "      <td>9.355556</td>\n",
       "      <td>7.227778</td>\n",
       "      <td>0.86</td>\n",
       "      <td>14.2646</td>\n",
       "      <td>259.0</td>\n",
       "      <td>15.8263</td>\n",
       "      <td>0.0</td>\n",
       "      <td>1015.63</td>\n",
       "      <td>Partly cloudy throughout the day.</td>\n",
       "    </tr>\n",
       "  </tbody>\n",
       "</table>\n",
       "</div>"
      ],
      "text/plain": [
       "                  Formatted Date        Summary Precip Type  Temperature (C)  \\\n",
       "0  2006-04-01 00:00:00.000 +0200  Partly Cloudy        rain         9.472222   \n",
       "1  2006-04-01 01:00:00.000 +0200  Partly Cloudy        rain         9.355556   \n",
       "\n",
       "   Apparent Temperature (C)  Humidity  Wind Speed (km/h)  \\\n",
       "0                  7.388889      0.89            14.1197   \n",
       "1                  7.227778      0.86            14.2646   \n",
       "\n",
       "   Wind Bearing (degrees)  Visibility (km)  Loud Cover  Pressure (millibars)  \\\n",
       "0                   251.0          15.8263         0.0               1015.13   \n",
       "1                   259.0          15.8263         0.0               1015.63   \n",
       "\n",
       "                       Daily Summary  \n",
       "0  Partly cloudy throughout the day.  \n",
       "1  Partly cloudy throughout the day.  "
      ]
     },
     "execution_count": 8,
     "metadata": {},
     "output_type": "execute_result"
    }
   ],
   "source": [
    "df=pd.read_csv('./data/weatherHistory.csv')\n",
    "df.head(2)"
   ]
  },
  {
   "cell_type": "code",
   "execution_count": 9,
   "id": "2c0cdc37",
   "metadata": {},
   "outputs": [
    {
     "data": {
      "text/html": [
       "<div>\n",
       "<style scoped>\n",
       "    .dataframe tbody tr th:only-of-type {\n",
       "        vertical-align: middle;\n",
       "    }\n",
       "\n",
       "    .dataframe tbody tr th {\n",
       "        vertical-align: top;\n",
       "    }\n",
       "\n",
       "    .dataframe thead th {\n",
       "        text-align: right;\n",
       "    }\n",
       "</style>\n",
       "<table border=\"1\" class=\"dataframe\">\n",
       "  <thead>\n",
       "    <tr style=\"text-align: right;\">\n",
       "      <th></th>\n",
       "      <th>Formatted Date</th>\n",
       "      <th>Summary</th>\n",
       "      <th>Precip Type</th>\n",
       "      <th>Temperature (C)</th>\n",
       "      <th>Apparent Temperature (C)</th>\n",
       "      <th>Humidity</th>\n",
       "      <th>Wind Speed (km/h)</th>\n",
       "      <th>Wind Bearing (degrees)</th>\n",
       "      <th>Visibility (km)</th>\n",
       "      <th>Loud Cover</th>\n",
       "      <th>Pressure (millibars)</th>\n",
       "      <th>Daily Summary</th>\n",
       "    </tr>\n",
       "  </thead>\n",
       "  <tbody>\n",
       "    <tr>\n",
       "      <th>96451</th>\n",
       "      <td>2016-09-09 22:00:00.000 +0200</td>\n",
       "      <td>Partly Cloudy</td>\n",
       "      <td>rain</td>\n",
       "      <td>21.522222</td>\n",
       "      <td>21.522222</td>\n",
       "      <td>0.60</td>\n",
       "      <td>10.5294</td>\n",
       "      <td>20.0</td>\n",
       "      <td>16.1000</td>\n",
       "      <td>0.0</td>\n",
       "      <td>1015.95</td>\n",
       "      <td>Partly cloudy starting in the morning.</td>\n",
       "    </tr>\n",
       "    <tr>\n",
       "      <th>96452</th>\n",
       "      <td>2016-09-09 23:00:00.000 +0200</td>\n",
       "      <td>Partly Cloudy</td>\n",
       "      <td>rain</td>\n",
       "      <td>20.438889</td>\n",
       "      <td>20.438889</td>\n",
       "      <td>0.61</td>\n",
       "      <td>5.8765</td>\n",
       "      <td>39.0</td>\n",
       "      <td>15.5204</td>\n",
       "      <td>0.0</td>\n",
       "      <td>1016.16</td>\n",
       "      <td>Partly cloudy starting in the morning.</td>\n",
       "    </tr>\n",
       "  </tbody>\n",
       "</table>\n",
       "</div>"
      ],
      "text/plain": [
       "                      Formatted Date        Summary Precip Type  \\\n",
       "96451  2016-09-09 22:00:00.000 +0200  Partly Cloudy        rain   \n",
       "96452  2016-09-09 23:00:00.000 +0200  Partly Cloudy        rain   \n",
       "\n",
       "       Temperature (C)  Apparent Temperature (C)  Humidity  Wind Speed (km/h)  \\\n",
       "96451        21.522222                 21.522222      0.60            10.5294   \n",
       "96452        20.438889                 20.438889      0.61             5.8765   \n",
       "\n",
       "       Wind Bearing (degrees)  Visibility (km)  Loud Cover  \\\n",
       "96451                    20.0          16.1000         0.0   \n",
       "96452                    39.0          15.5204         0.0   \n",
       "\n",
       "       Pressure (millibars)                           Daily Summary  \n",
       "96451               1015.95  Partly cloudy starting in the morning.  \n",
       "96452               1016.16  Partly cloudy starting in the morning.  "
      ]
     },
     "execution_count": 9,
     "metadata": {},
     "output_type": "execute_result"
    }
   ],
   "source": [
    "# Giving look to the tail\n",
    "df.tail(2)"
   ]
  },
  {
   "cell_type": "markdown",
   "id": "544bdd2b",
   "metadata": {},
   "source": [
    "## 3- General overview before cleaning\n",
    "Instructions in this section are not essential, they are only used to know dimension of our raw data such as number of row and columns, or may be columns names etc.\n",
    "\n",
    "###  3.1- More information \n",
    "\n",
    "Here is more information about the features and types, it gives a general information regarding your data such as numbers columns, type of your columns, is there any missing values?"
   ]
  },
  {
   "cell_type": "code",
   "execution_count": 10,
   "id": "a9a89b5a",
   "metadata": {},
   "outputs": [
    {
     "name": "stdout",
     "output_type": "stream",
     "text": [
      "<class 'pandas.core.frame.DataFrame'>\n",
      "RangeIndex: 96453 entries, 0 to 96452\n",
      "Data columns (total 12 columns):\n",
      " #   Column                    Non-Null Count  Dtype  \n",
      "---  ------                    --------------  -----  \n",
      " 0   Formatted Date            96453 non-null  object \n",
      " 1   Summary                   96453 non-null  object \n",
      " 2   Precip Type               95936 non-null  object \n",
      " 3   Temperature (C)           96453 non-null  float64\n",
      " 4   Apparent Temperature (C)  96453 non-null  float64\n",
      " 5   Humidity                  96453 non-null  float64\n",
      " 6   Wind Speed (km/h)         96453 non-null  float64\n",
      " 7   Wind Bearing (degrees)    96453 non-null  float64\n",
      " 8   Visibility (km)           96453 non-null  float64\n",
      " 9   Loud Cover                96453 non-null  float64\n",
      " 10  Pressure (millibars)      96453 non-null  float64\n",
      " 11  Daily Summary             96453 non-null  object \n",
      "dtypes: float64(8), object(4)\n",
      "memory usage: 8.8+ MB\n"
     ]
    }
   ],
   "source": [
    "df.info()"
   ]
  },
  {
   "cell_type": "markdown",
   "id": "dd72cd26",
   "metadata": {},
   "source": [
    "### 3.2- Data frame shape \n",
    "My data frame contains 660 rows and 27 columns"
   ]
  },
  {
   "cell_type": "code",
   "execution_count": 11,
   "id": "fe7117f7",
   "metadata": {},
   "outputs": [
    {
     "data": {
      "text/plain": [
       "(96453, 12)"
      ]
     },
     "execution_count": 11,
     "metadata": {},
     "output_type": "execute_result"
    }
   ],
   "source": [
    "df.shape"
   ]
  },
  {
   "cell_type": "markdown",
   "id": "0933b990",
   "metadata": {},
   "source": [
    "### 3.3-  Columns names \n",
    "Determining columns name in my data frame. Here I have 27 columns as I mentioned before. "
   ]
  },
  {
   "cell_type": "code",
   "execution_count": 12,
   "id": "874a3cda",
   "metadata": {},
   "outputs": [
    {
     "data": {
      "text/plain": [
       "Index(['Formatted Date', 'Summary', 'Precip Type', 'Temperature (C)',\n",
       "       'Apparent Temperature (C)', 'Humidity', 'Wind Speed (km/h)',\n",
       "       'Wind Bearing (degrees)', 'Visibility (km)', 'Loud Cover',\n",
       "       'Pressure (millibars)', 'Daily Summary'],\n",
       "      dtype='object')"
      ]
     },
     "execution_count": 12,
     "metadata": {},
     "output_type": "execute_result"
    }
   ],
   "source": [
    "df.columns"
   ]
  },
  {
   "cell_type": "markdown",
   "id": "60250472",
   "metadata": {},
   "source": [
    "In the next cell, I am selecting the most important features to work with discarding all irrelevant ones."
   ]
  },
  {
   "cell_type": "code",
   "execution_count": 13,
   "id": "11999108",
   "metadata": {},
   "outputs": [
    {
     "data": {
      "text/html": [
       "<div>\n",
       "<style scoped>\n",
       "    .dataframe tbody tr th:only-of-type {\n",
       "        vertical-align: middle;\n",
       "    }\n",
       "\n",
       "    .dataframe tbody tr th {\n",
       "        vertical-align: top;\n",
       "    }\n",
       "\n",
       "    .dataframe thead th {\n",
       "        text-align: right;\n",
       "    }\n",
       "</style>\n",
       "<table border=\"1\" class=\"dataframe\">\n",
       "  <thead>\n",
       "    <tr style=\"text-align: right;\">\n",
       "      <th></th>\n",
       "      <th>Temperature (C)</th>\n",
       "      <th>Apparent Temperature (C)</th>\n",
       "      <th>Humidity</th>\n",
       "      <th>Wind Speed (km/h)</th>\n",
       "      <th>Wind Bearing (degrees)</th>\n",
       "      <th>Visibility (km)</th>\n",
       "      <th>Pressure (millibars)</th>\n",
       "    </tr>\n",
       "  </thead>\n",
       "  <tbody>\n",
       "    <tr>\n",
       "      <th>0</th>\n",
       "      <td>9.472222</td>\n",
       "      <td>7.388889</td>\n",
       "      <td>0.89</td>\n",
       "      <td>14.1197</td>\n",
       "      <td>251.0</td>\n",
       "      <td>15.8263</td>\n",
       "      <td>1015.13</td>\n",
       "    </tr>\n",
       "    <tr>\n",
       "      <th>1</th>\n",
       "      <td>9.355556</td>\n",
       "      <td>7.227778</td>\n",
       "      <td>0.86</td>\n",
       "      <td>14.2646</td>\n",
       "      <td>259.0</td>\n",
       "      <td>15.8263</td>\n",
       "      <td>1015.63</td>\n",
       "    </tr>\n",
       "  </tbody>\n",
       "</table>\n",
       "</div>"
      ],
      "text/plain": [
       "   Temperature (C)  Apparent Temperature (C)  Humidity  Wind Speed (km/h)  \\\n",
       "0         9.472222                  7.388889      0.89            14.1197   \n",
       "1         9.355556                  7.227778      0.86            14.2646   \n",
       "\n",
       "   Wind Bearing (degrees)  Visibility (km)  Pressure (millibars)  \n",
       "0                   251.0          15.8263               1015.13  \n",
       "1                   259.0          15.8263               1015.63  "
      ]
     },
     "execution_count": 13,
     "metadata": {},
     "output_type": "execute_result"
    }
   ],
   "source": [
    "numerical_columns=['Temperature (C)', 'Apparent Temperature (C)', 'Humidity', 'Wind Speed (km/h)', \n",
    "'Wind Bearing (degrees)', 'Visibility (km)', 'Pressure (millibars)']\n",
    "df_select=df[numerical_columns]\n",
    "df_select.head(2)"
   ]
  },
  {
   "cell_type": "markdown",
   "id": "e6de8876",
   "metadata": {},
   "source": [
    "## 4- Cleaning and preprocessing\n",
    "Basically, we need to address anything that could undermine the functionality and effectiveness of the model used to extract insight.\n",
    "\n",
    "- Check data inconsistencies, fix corrupt data, find missing data\n",
    "- Finding and removing the outliers\n",
    "- Impute missing data\n",
    "- Scaling the data : numerical data\n",
    "\n"
   ]
  },
  {
   "cell_type": "markdown",
   "id": "4d7b184b",
   "metadata": {},
   "source": [
    "### 4.1- Handling the Duplicates"
   ]
  },
  {
   "cell_type": "code",
   "execution_count": 14,
   "id": "f2aeb4a6",
   "metadata": {},
   "outputs": [
    {
     "data": {
      "text/html": [
       "<div>\n",
       "<style scoped>\n",
       "    .dataframe tbody tr th:only-of-type {\n",
       "        vertical-align: middle;\n",
       "    }\n",
       "\n",
       "    .dataframe tbody tr th {\n",
       "        vertical-align: top;\n",
       "    }\n",
       "\n",
       "    .dataframe thead th {\n",
       "        text-align: right;\n",
       "    }\n",
       "</style>\n",
       "<table border=\"1\" class=\"dataframe\">\n",
       "  <thead>\n",
       "    <tr style=\"text-align: right;\">\n",
       "      <th></th>\n",
       "      <th>Formatted Date</th>\n",
       "      <th>Summary</th>\n",
       "      <th>Precip Type</th>\n",
       "      <th>Temperature (C)</th>\n",
       "      <th>Apparent Temperature (C)</th>\n",
       "      <th>Humidity</th>\n",
       "      <th>Wind Speed (km/h)</th>\n",
       "      <th>Wind Bearing (degrees)</th>\n",
       "      <th>Visibility (km)</th>\n",
       "      <th>Loud Cover</th>\n",
       "      <th>Pressure (millibars)</th>\n",
       "      <th>Daily Summary</th>\n",
       "    </tr>\n",
       "  </thead>\n",
       "  <tbody>\n",
       "    <tr>\n",
       "      <th>26</th>\n",
       "      <td>2006-04-10 02:00:00.000 +0200</td>\n",
       "      <td>Mostly Cloudy</td>\n",
       "      <td>rain</td>\n",
       "      <td>11.183333</td>\n",
       "      <td>11.183333</td>\n",
       "      <td>0.80</td>\n",
       "      <td>10.8192</td>\n",
       "      <td>163.0</td>\n",
       "      <td>14.9569</td>\n",
       "      <td>0.0</td>\n",
       "      <td>1008.71</td>\n",
       "      <td>Mostly cloudy throughout the day.</td>\n",
       "    </tr>\n",
       "    <tr>\n",
       "      <th>43</th>\n",
       "      <td>2006-04-10 19:00:00.000 +0200</td>\n",
       "      <td>Mostly Cloudy</td>\n",
       "      <td>rain</td>\n",
       "      <td>17.800000</td>\n",
       "      <td>17.800000</td>\n",
       "      <td>0.50</td>\n",
       "      <td>20.0445</td>\n",
       "      <td>150.0</td>\n",
       "      <td>11.2056</td>\n",
       "      <td>0.0</td>\n",
       "      <td>1008.36</td>\n",
       "      <td>Mostly cloudy throughout the day.</td>\n",
       "    </tr>\n",
       "    <tr>\n",
       "      <th>47</th>\n",
       "      <td>2006-04-10 23:00:00.000 +0200</td>\n",
       "      <td>Overcast</td>\n",
       "      <td>rain</td>\n",
       "      <td>14.255556</td>\n",
       "      <td>14.255556</td>\n",
       "      <td>0.59</td>\n",
       "      <td>16.5025</td>\n",
       "      <td>168.0</td>\n",
       "      <td>14.9569</td>\n",
       "      <td>0.0</td>\n",
       "      <td>1007.89</td>\n",
       "      <td>Mostly cloudy throughout the day.</td>\n",
       "    </tr>\n",
       "    <tr>\n",
       "      <th>48</th>\n",
       "      <td>2006-04-11 00:00:00.000 +0200</td>\n",
       "      <td>Overcast</td>\n",
       "      <td>rain</td>\n",
       "      <td>13.772222</td>\n",
       "      <td>13.772222</td>\n",
       "      <td>0.60</td>\n",
       "      <td>17.0982</td>\n",
       "      <td>160.0</td>\n",
       "      <td>15.8263</td>\n",
       "      <td>0.0</td>\n",
       "      <td>1007.36</td>\n",
       "      <td>Foggy in the evening.</td>\n",
       "    </tr>\n",
       "    <tr>\n",
       "      <th>52</th>\n",
       "      <td>2006-04-11 04:00:00.000 +0200</td>\n",
       "      <td>Overcast</td>\n",
       "      <td>rain</td>\n",
       "      <td>11.183333</td>\n",
       "      <td>11.183333</td>\n",
       "      <td>0.89</td>\n",
       "      <td>11.2056</td>\n",
       "      <td>180.0</td>\n",
       "      <td>9.9015</td>\n",
       "      <td>0.0</td>\n",
       "      <td>1006.73</td>\n",
       "      <td>Foggy in the evening.</td>\n",
       "    </tr>\n",
       "    <tr>\n",
       "      <th>...</th>\n",
       "      <td>...</td>\n",
       "      <td>...</td>\n",
       "      <td>...</td>\n",
       "      <td>...</td>\n",
       "      <td>...</td>\n",
       "      <td>...</td>\n",
       "      <td>...</td>\n",
       "      <td>...</td>\n",
       "      <td>...</td>\n",
       "      <td>...</td>\n",
       "      <td>...</td>\n",
       "      <td>...</td>\n",
       "    </tr>\n",
       "    <tr>\n",
       "      <th>96448</th>\n",
       "      <td>2016-09-09 19:00:00.000 +0200</td>\n",
       "      <td>Partly Cloudy</td>\n",
       "      <td>rain</td>\n",
       "      <td>26.016667</td>\n",
       "      <td>26.016667</td>\n",
       "      <td>0.43</td>\n",
       "      <td>10.9963</td>\n",
       "      <td>31.0</td>\n",
       "      <td>16.1000</td>\n",
       "      <td>0.0</td>\n",
       "      <td>1014.36</td>\n",
       "      <td>Partly cloudy starting in the morning.</td>\n",
       "    </tr>\n",
       "    <tr>\n",
       "      <th>96449</th>\n",
       "      <td>2016-09-09 20:00:00.000 +0200</td>\n",
       "      <td>Partly Cloudy</td>\n",
       "      <td>rain</td>\n",
       "      <td>24.583333</td>\n",
       "      <td>24.583333</td>\n",
       "      <td>0.48</td>\n",
       "      <td>10.0947</td>\n",
       "      <td>20.0</td>\n",
       "      <td>15.5526</td>\n",
       "      <td>0.0</td>\n",
       "      <td>1015.16</td>\n",
       "      <td>Partly cloudy starting in the morning.</td>\n",
       "    </tr>\n",
       "    <tr>\n",
       "      <th>96450</th>\n",
       "      <td>2016-09-09 21:00:00.000 +0200</td>\n",
       "      <td>Partly Cloudy</td>\n",
       "      <td>rain</td>\n",
       "      <td>22.038889</td>\n",
       "      <td>22.038889</td>\n",
       "      <td>0.56</td>\n",
       "      <td>8.9838</td>\n",
       "      <td>30.0</td>\n",
       "      <td>16.1000</td>\n",
       "      <td>0.0</td>\n",
       "      <td>1015.66</td>\n",
       "      <td>Partly cloudy starting in the morning.</td>\n",
       "    </tr>\n",
       "    <tr>\n",
       "      <th>96451</th>\n",
       "      <td>2016-09-09 22:00:00.000 +0200</td>\n",
       "      <td>Partly Cloudy</td>\n",
       "      <td>rain</td>\n",
       "      <td>21.522222</td>\n",
       "      <td>21.522222</td>\n",
       "      <td>0.60</td>\n",
       "      <td>10.5294</td>\n",
       "      <td>20.0</td>\n",
       "      <td>16.1000</td>\n",
       "      <td>0.0</td>\n",
       "      <td>1015.95</td>\n",
       "      <td>Partly cloudy starting in the morning.</td>\n",
       "    </tr>\n",
       "    <tr>\n",
       "      <th>96452</th>\n",
       "      <td>2016-09-09 23:00:00.000 +0200</td>\n",
       "      <td>Partly Cloudy</td>\n",
       "      <td>rain</td>\n",
       "      <td>20.438889</td>\n",
       "      <td>20.438889</td>\n",
       "      <td>0.61</td>\n",
       "      <td>5.8765</td>\n",
       "      <td>39.0</td>\n",
       "      <td>15.5204</td>\n",
       "      <td>0.0</td>\n",
       "      <td>1016.16</td>\n",
       "      <td>Partly cloudy starting in the morning.</td>\n",
       "    </tr>\n",
       "  </tbody>\n",
       "</table>\n",
       "<p>88879 rows × 12 columns</p>\n",
       "</div>"
      ],
      "text/plain": [
       "                      Formatted Date        Summary Precip Type  \\\n",
       "26     2006-04-10 02:00:00.000 +0200  Mostly Cloudy        rain   \n",
       "43     2006-04-10 19:00:00.000 +0200  Mostly Cloudy        rain   \n",
       "47     2006-04-10 23:00:00.000 +0200       Overcast        rain   \n",
       "48     2006-04-11 00:00:00.000 +0200       Overcast        rain   \n",
       "52     2006-04-11 04:00:00.000 +0200       Overcast        rain   \n",
       "...                              ...            ...         ...   \n",
       "96448  2016-09-09 19:00:00.000 +0200  Partly Cloudy        rain   \n",
       "96449  2016-09-09 20:00:00.000 +0200  Partly Cloudy        rain   \n",
       "96450  2016-09-09 21:00:00.000 +0200  Partly Cloudy        rain   \n",
       "96451  2016-09-09 22:00:00.000 +0200  Partly Cloudy        rain   \n",
       "96452  2016-09-09 23:00:00.000 +0200  Partly Cloudy        rain   \n",
       "\n",
       "       Temperature (C)  Apparent Temperature (C)  Humidity  Wind Speed (km/h)  \\\n",
       "26           11.183333                 11.183333      0.80            10.8192   \n",
       "43           17.800000                 17.800000      0.50            20.0445   \n",
       "47           14.255556                 14.255556      0.59            16.5025   \n",
       "48           13.772222                 13.772222      0.60            17.0982   \n",
       "52           11.183333                 11.183333      0.89            11.2056   \n",
       "...                ...                       ...       ...                ...   \n",
       "96448        26.016667                 26.016667      0.43            10.9963   \n",
       "96449        24.583333                 24.583333      0.48            10.0947   \n",
       "96450        22.038889                 22.038889      0.56             8.9838   \n",
       "96451        21.522222                 21.522222      0.60            10.5294   \n",
       "96452        20.438889                 20.438889      0.61             5.8765   \n",
       "\n",
       "       Wind Bearing (degrees)  Visibility (km)  Loud Cover  \\\n",
       "26                      163.0          14.9569         0.0   \n",
       "43                      150.0          11.2056         0.0   \n",
       "47                      168.0          14.9569         0.0   \n",
       "48                      160.0          15.8263         0.0   \n",
       "52                      180.0           9.9015         0.0   \n",
       "...                       ...              ...         ...   \n",
       "96448                    31.0          16.1000         0.0   \n",
       "96449                    20.0          15.5526         0.0   \n",
       "96450                    30.0          16.1000         0.0   \n",
       "96451                    20.0          16.1000         0.0   \n",
       "96452                    39.0          15.5204         0.0   \n",
       "\n",
       "       Pressure (millibars)                           Daily Summary  \n",
       "26                  1008.71       Mostly cloudy throughout the day.  \n",
       "43                  1008.36       Mostly cloudy throughout the day.  \n",
       "47                  1007.89       Mostly cloudy throughout the day.  \n",
       "48                  1007.36                   Foggy in the evening.  \n",
       "52                  1006.73                   Foggy in the evening.  \n",
       "...                     ...                                     ...  \n",
       "96448               1014.36  Partly cloudy starting in the morning.  \n",
       "96449               1015.16  Partly cloudy starting in the morning.  \n",
       "96450               1015.66  Partly cloudy starting in the morning.  \n",
       "96451               1015.95  Partly cloudy starting in the morning.  \n",
       "96452               1016.16  Partly cloudy starting in the morning.  \n",
       "\n",
       "[88879 rows x 12 columns]"
      ]
     },
     "execution_count": 14,
     "metadata": {},
     "output_type": "execute_result"
    }
   ],
   "source": [
    "duplicate = df[df.duplicated(['Temperature (C)'])]\n",
    "duplicate"
   ]
  },
  {
   "cell_type": "markdown",
   "id": "7b209d9d",
   "metadata": {},
   "source": [
    "To delete duplicates, I have used `drop_duplicates()`, which removes all duplicate rows based on all the columns."
   ]
  },
  {
   "cell_type": "code",
   "execution_count": 15,
   "id": "bc760371",
   "metadata": {},
   "outputs": [
    {
     "data": {
      "text/html": [
       "<div>\n",
       "<style scoped>\n",
       "    .dataframe tbody tr th:only-of-type {\n",
       "        vertical-align: middle;\n",
       "    }\n",
       "\n",
       "    .dataframe tbody tr th {\n",
       "        vertical-align: top;\n",
       "    }\n",
       "\n",
       "    .dataframe thead th {\n",
       "        text-align: right;\n",
       "    }\n",
       "</style>\n",
       "<table border=\"1\" class=\"dataframe\">\n",
       "  <thead>\n",
       "    <tr style=\"text-align: right;\">\n",
       "      <th></th>\n",
       "      <th>Formatted Date</th>\n",
       "      <th>Summary</th>\n",
       "      <th>Precip Type</th>\n",
       "      <th>Temperature (C)</th>\n",
       "      <th>Apparent Temperature (C)</th>\n",
       "      <th>Humidity</th>\n",
       "      <th>Wind Speed (km/h)</th>\n",
       "      <th>Wind Bearing (degrees)</th>\n",
       "      <th>Visibility (km)</th>\n",
       "      <th>Loud Cover</th>\n",
       "      <th>Pressure (millibars)</th>\n",
       "      <th>Daily Summary</th>\n",
       "    </tr>\n",
       "  </thead>\n",
       "  <tbody>\n",
       "    <tr>\n",
       "      <th>0</th>\n",
       "      <td>2006-04-01 00:00:00.000 +0200</td>\n",
       "      <td>Partly Cloudy</td>\n",
       "      <td>rain</td>\n",
       "      <td>9.472222</td>\n",
       "      <td>7.388889</td>\n",
       "      <td>0.89</td>\n",
       "      <td>14.1197</td>\n",
       "      <td>251.0</td>\n",
       "      <td>15.8263</td>\n",
       "      <td>0.0</td>\n",
       "      <td>1015.13</td>\n",
       "      <td>Partly cloudy throughout the day.</td>\n",
       "    </tr>\n",
       "    <tr>\n",
       "      <th>1</th>\n",
       "      <td>2006-04-01 01:00:00.000 +0200</td>\n",
       "      <td>Partly Cloudy</td>\n",
       "      <td>rain</td>\n",
       "      <td>9.355556</td>\n",
       "      <td>7.227778</td>\n",
       "      <td>0.86</td>\n",
       "      <td>14.2646</td>\n",
       "      <td>259.0</td>\n",
       "      <td>15.8263</td>\n",
       "      <td>0.0</td>\n",
       "      <td>1015.63</td>\n",
       "      <td>Partly cloudy throughout the day.</td>\n",
       "    </tr>\n",
       "    <tr>\n",
       "      <th>2</th>\n",
       "      <td>2006-04-01 02:00:00.000 +0200</td>\n",
       "      <td>Mostly Cloudy</td>\n",
       "      <td>rain</td>\n",
       "      <td>9.377778</td>\n",
       "      <td>9.377778</td>\n",
       "      <td>0.89</td>\n",
       "      <td>3.9284</td>\n",
       "      <td>204.0</td>\n",
       "      <td>14.9569</td>\n",
       "      <td>0.0</td>\n",
       "      <td>1015.94</td>\n",
       "      <td>Partly cloudy throughout the day.</td>\n",
       "    </tr>\n",
       "    <tr>\n",
       "      <th>3</th>\n",
       "      <td>2006-04-01 03:00:00.000 +0200</td>\n",
       "      <td>Partly Cloudy</td>\n",
       "      <td>rain</td>\n",
       "      <td>8.288889</td>\n",
       "      <td>5.944444</td>\n",
       "      <td>0.83</td>\n",
       "      <td>14.1036</td>\n",
       "      <td>269.0</td>\n",
       "      <td>15.8263</td>\n",
       "      <td>0.0</td>\n",
       "      <td>1016.41</td>\n",
       "      <td>Partly cloudy throughout the day.</td>\n",
       "    </tr>\n",
       "    <tr>\n",
       "      <th>4</th>\n",
       "      <td>2006-04-01 04:00:00.000 +0200</td>\n",
       "      <td>Mostly Cloudy</td>\n",
       "      <td>rain</td>\n",
       "      <td>8.755556</td>\n",
       "      <td>6.977778</td>\n",
       "      <td>0.83</td>\n",
       "      <td>11.0446</td>\n",
       "      <td>259.0</td>\n",
       "      <td>15.8263</td>\n",
       "      <td>0.0</td>\n",
       "      <td>1016.51</td>\n",
       "      <td>Partly cloudy throughout the day.</td>\n",
       "    </tr>\n",
       "    <tr>\n",
       "      <th>...</th>\n",
       "      <td>...</td>\n",
       "      <td>...</td>\n",
       "      <td>...</td>\n",
       "      <td>...</td>\n",
       "      <td>...</td>\n",
       "      <td>...</td>\n",
       "      <td>...</td>\n",
       "      <td>...</td>\n",
       "      <td>...</td>\n",
       "      <td>...</td>\n",
       "      <td>...</td>\n",
       "      <td>...</td>\n",
       "    </tr>\n",
       "    <tr>\n",
       "      <th>96448</th>\n",
       "      <td>2016-09-09 19:00:00.000 +0200</td>\n",
       "      <td>Partly Cloudy</td>\n",
       "      <td>rain</td>\n",
       "      <td>26.016667</td>\n",
       "      <td>26.016667</td>\n",
       "      <td>0.43</td>\n",
       "      <td>10.9963</td>\n",
       "      <td>31.0</td>\n",
       "      <td>16.1000</td>\n",
       "      <td>0.0</td>\n",
       "      <td>1014.36</td>\n",
       "      <td>Partly cloudy starting in the morning.</td>\n",
       "    </tr>\n",
       "    <tr>\n",
       "      <th>96449</th>\n",
       "      <td>2016-09-09 20:00:00.000 +0200</td>\n",
       "      <td>Partly Cloudy</td>\n",
       "      <td>rain</td>\n",
       "      <td>24.583333</td>\n",
       "      <td>24.583333</td>\n",
       "      <td>0.48</td>\n",
       "      <td>10.0947</td>\n",
       "      <td>20.0</td>\n",
       "      <td>15.5526</td>\n",
       "      <td>0.0</td>\n",
       "      <td>1015.16</td>\n",
       "      <td>Partly cloudy starting in the morning.</td>\n",
       "    </tr>\n",
       "    <tr>\n",
       "      <th>96450</th>\n",
       "      <td>2016-09-09 21:00:00.000 +0200</td>\n",
       "      <td>Partly Cloudy</td>\n",
       "      <td>rain</td>\n",
       "      <td>22.038889</td>\n",
       "      <td>22.038889</td>\n",
       "      <td>0.56</td>\n",
       "      <td>8.9838</td>\n",
       "      <td>30.0</td>\n",
       "      <td>16.1000</td>\n",
       "      <td>0.0</td>\n",
       "      <td>1015.66</td>\n",
       "      <td>Partly cloudy starting in the morning.</td>\n",
       "    </tr>\n",
       "    <tr>\n",
       "      <th>96451</th>\n",
       "      <td>2016-09-09 22:00:00.000 +0200</td>\n",
       "      <td>Partly Cloudy</td>\n",
       "      <td>rain</td>\n",
       "      <td>21.522222</td>\n",
       "      <td>21.522222</td>\n",
       "      <td>0.60</td>\n",
       "      <td>10.5294</td>\n",
       "      <td>20.0</td>\n",
       "      <td>16.1000</td>\n",
       "      <td>0.0</td>\n",
       "      <td>1015.95</td>\n",
       "      <td>Partly cloudy starting in the morning.</td>\n",
       "    </tr>\n",
       "    <tr>\n",
       "      <th>96452</th>\n",
       "      <td>2016-09-09 23:00:00.000 +0200</td>\n",
       "      <td>Partly Cloudy</td>\n",
       "      <td>rain</td>\n",
       "      <td>20.438889</td>\n",
       "      <td>20.438889</td>\n",
       "      <td>0.61</td>\n",
       "      <td>5.8765</td>\n",
       "      <td>39.0</td>\n",
       "      <td>15.5204</td>\n",
       "      <td>0.0</td>\n",
       "      <td>1016.16</td>\n",
       "      <td>Partly cloudy starting in the morning.</td>\n",
       "    </tr>\n",
       "  </tbody>\n",
       "</table>\n",
       "<p>96429 rows × 12 columns</p>\n",
       "</div>"
      ],
      "text/plain": [
       "                      Formatted Date        Summary Precip Type  \\\n",
       "0      2006-04-01 00:00:00.000 +0200  Partly Cloudy        rain   \n",
       "1      2006-04-01 01:00:00.000 +0200  Partly Cloudy        rain   \n",
       "2      2006-04-01 02:00:00.000 +0200  Mostly Cloudy        rain   \n",
       "3      2006-04-01 03:00:00.000 +0200  Partly Cloudy        rain   \n",
       "4      2006-04-01 04:00:00.000 +0200  Mostly Cloudy        rain   \n",
       "...                              ...            ...         ...   \n",
       "96448  2016-09-09 19:00:00.000 +0200  Partly Cloudy        rain   \n",
       "96449  2016-09-09 20:00:00.000 +0200  Partly Cloudy        rain   \n",
       "96450  2016-09-09 21:00:00.000 +0200  Partly Cloudy        rain   \n",
       "96451  2016-09-09 22:00:00.000 +0200  Partly Cloudy        rain   \n",
       "96452  2016-09-09 23:00:00.000 +0200  Partly Cloudy        rain   \n",
       "\n",
       "       Temperature (C)  Apparent Temperature (C)  Humidity  Wind Speed (km/h)  \\\n",
       "0             9.472222                  7.388889      0.89            14.1197   \n",
       "1             9.355556                  7.227778      0.86            14.2646   \n",
       "2             9.377778                  9.377778      0.89             3.9284   \n",
       "3             8.288889                  5.944444      0.83            14.1036   \n",
       "4             8.755556                  6.977778      0.83            11.0446   \n",
       "...                ...                       ...       ...                ...   \n",
       "96448        26.016667                 26.016667      0.43            10.9963   \n",
       "96449        24.583333                 24.583333      0.48            10.0947   \n",
       "96450        22.038889                 22.038889      0.56             8.9838   \n",
       "96451        21.522222                 21.522222      0.60            10.5294   \n",
       "96452        20.438889                 20.438889      0.61             5.8765   \n",
       "\n",
       "       Wind Bearing (degrees)  Visibility (km)  Loud Cover  \\\n",
       "0                       251.0          15.8263         0.0   \n",
       "1                       259.0          15.8263         0.0   \n",
       "2                       204.0          14.9569         0.0   \n",
       "3                       269.0          15.8263         0.0   \n",
       "4                       259.0          15.8263         0.0   \n",
       "...                       ...              ...         ...   \n",
       "96448                    31.0          16.1000         0.0   \n",
       "96449                    20.0          15.5526         0.0   \n",
       "96450                    30.0          16.1000         0.0   \n",
       "96451                    20.0          16.1000         0.0   \n",
       "96452                    39.0          15.5204         0.0   \n",
       "\n",
       "       Pressure (millibars)                           Daily Summary  \n",
       "0                   1015.13       Partly cloudy throughout the day.  \n",
       "1                   1015.63       Partly cloudy throughout the day.  \n",
       "2                   1015.94       Partly cloudy throughout the day.  \n",
       "3                   1016.41       Partly cloudy throughout the day.  \n",
       "4                   1016.51       Partly cloudy throughout the day.  \n",
       "...                     ...                                     ...  \n",
       "96448               1014.36  Partly cloudy starting in the morning.  \n",
       "96449               1015.16  Partly cloudy starting in the morning.  \n",
       "96450               1015.66  Partly cloudy starting in the morning.  \n",
       "96451               1015.95  Partly cloudy starting in the morning.  \n",
       "96452               1016.16  Partly cloudy starting in the morning.  \n",
       "\n",
       "[96429 rows x 12 columns]"
      ]
     },
     "execution_count": 15,
     "metadata": {},
     "output_type": "execute_result"
    }
   ],
   "source": [
    "# To delete duplicates \n",
    "dup_removed = df.drop_duplicates()\n",
    "dup_removed "
   ]
  },
  {
   "cell_type": "markdown",
   "id": "b7a5d097",
   "metadata": {},
   "source": [
    "To check if there are any duplicated Indexes in our dataset, we can use index.is_unique function."
   ]
  },
  {
   "cell_type": "code",
   "execution_count": 16,
   "id": "fab38bfa",
   "metadata": {},
   "outputs": [
    {
     "data": {
      "text/plain": [
       "True"
      ]
     },
     "execution_count": 16,
     "metadata": {},
     "output_type": "execute_result"
    }
   ],
   "source": [
    "df.index.is_unique"
   ]
  },
  {
   "cell_type": "markdown",
   "id": "2e39c211",
   "metadata": {},
   "source": [
    "### 4.2- Handling missing values\n",
    "#### a. Finding / detecting the Missing Values\n",
    "Pandas has already provides some predefined function for detecting missing values, easily. Those functions are isna(), isnull(), and notna() functions."
   ]
  },
  {
   "cell_type": "code",
   "execution_count": 17,
   "id": "1d1ffb47",
   "metadata": {},
   "outputs": [
    {
     "data": {
      "text/plain": [
       "Precip Type                 517\n",
       "Formatted Date                0\n",
       "Summary                       0\n",
       "Temperature (C)               0\n",
       "Apparent Temperature (C)      0\n",
       "Humidity                      0\n",
       "Wind Speed (km/h)             0\n",
       "Wind Bearing (degrees)        0\n",
       "Visibility (km)               0\n",
       "Loud Cover                    0\n",
       "Pressure (millibars)          0\n",
       "Daily Summary                 0\n",
       "dtype: int64"
      ]
     },
     "execution_count": 17,
     "metadata": {},
     "output_type": "execute_result"
    }
   ],
   "source": [
    "df.isnull().sum().sort_values(ascending=False)"
   ]
  },
  {
   "cell_type": "markdown",
   "id": "6bdd5b25",
   "metadata": {},
   "source": [
    "Three main methods to deal with NaN, missing values: \n",
    "\n",
    "- Simple solution: drop columns/lines with missing values : not quite adequate because we could lose a lot of information that are important or insightful \n",
    "- Imputation : filling the missing values with some numbers (mean, median, random etc.) : not very correct way but it is better than dropping the column entirly. \n",
    "- An extension to Imputation : impute missing values as before but we add to each column with missing entries, a new column that shows the location of imputed entries (True /False). Model would make better prediction by considering which values were originally missing. \n",
    "\n",
    "\n",
    "**!!! Note: for categorical data we could replace them with the mode**"
   ]
  },
  {
   "cell_type": "code",
   "execution_count": 18,
   "id": "1f8fb960",
   "metadata": {},
   "outputs": [],
   "source": [
    "%matplotlib inline\n",
    "# Using missingno library\n",
    "#msno.matrix(df)"
   ]
  },
  {
   "cell_type": "markdown",
   "id": "be3f93ad",
   "metadata": {},
   "source": [
    "#### b. Removing missing values \n",
    "#### Solution 1 : Drop the missing values, only rows "
   ]
  },
  {
   "cell_type": "code",
   "execution_count": 19,
   "id": "6d8992b3",
   "metadata": {},
   "outputs": [
    {
     "data": {
      "text/plain": [
       "Formatted Date              0\n",
       "Summary                     0\n",
       "Precip Type                 0\n",
       "Temperature (C)             0\n",
       "Apparent Temperature (C)    0\n",
       "Humidity                    0\n",
       "Wind Speed (km/h)           0\n",
       "Wind Bearing (degrees)      0\n",
       "Visibility (km)             0\n",
       "Loud Cover                  0\n",
       "Pressure (millibars)        0\n",
       "Daily Summary               0\n",
       "dtype: int64"
      ]
     },
     "execution_count": 19,
     "metadata": {},
     "output_type": "execute_result"
    }
   ],
   "source": [
    "df2=df.dropna(subset=[\"Precip Type\"])\n",
    "df2.isnull().sum().sort_values(ascending=False)"
   ]
  },
  {
   "cell_type": "markdown",
   "id": "d9275636",
   "metadata": {},
   "source": [
    "#### Solution 2: Drop the whole attribute (column), that contains missing values, using the drop() method."
   ]
  },
  {
   "cell_type": "code",
   "execution_count": 20,
   "id": "0d413fed",
   "metadata": {},
   "outputs": [
    {
     "data": {
      "text/plain": [
       "Formatted Date              0\n",
       "Summary                     0\n",
       "Precip Type                 0\n",
       "Temperature (C)             0\n",
       "Apparent Temperature (C)    0\n",
       "Humidity                    0\n",
       "Wind Speed (km/h)           0\n",
       "Wind Bearing (degrees)      0\n",
       "Visibility (km)             0\n",
       "Loud Cover                  0\n",
       "Pressure (millibars)        0\n",
       "Daily Summary               0\n",
       "dtype: int64"
      ]
     },
     "execution_count": 20,
     "metadata": {},
     "output_type": "execute_result"
    }
   ],
   "source": [
    "df3=df.dropna(subset=[\"Precip Type\"])\n",
    "df3.isnull().sum().sort_values(ascending=False)"
   ]
  },
  {
   "cell_type": "code",
   "execution_count": 21,
   "id": "5bdecf26",
   "metadata": {},
   "outputs": [
    {
     "data": {
      "text/plain": [
       "Formatted Date               object\n",
       "Summary                      object\n",
       "Precip Type                  object\n",
       "Temperature (C)             float64\n",
       "Apparent Temperature (C)    float64\n",
       "Humidity                    float64\n",
       "Wind Speed (km/h)           float64\n",
       "Wind Bearing (degrees)      float64\n",
       "Visibility (km)             float64\n",
       "Loud Cover                  float64\n",
       "Pressure (millibars)        float64\n",
       "Daily Summary                object\n",
       "dtype: object"
      ]
     },
     "execution_count": 21,
     "metadata": {},
     "output_type": "execute_result"
    }
   ],
   "source": [
    "df3.dtypes"
   ]
  },
  {
   "cell_type": "markdown",
   "id": "d3ac2af2",
   "metadata": {},
   "source": [
    "#### Solution 3 : Imputation : replace the missing values (zero, the mean, the median, etc.), using fillna() method."
   ]
  },
  {
   "cell_type": "code",
   "execution_count": 22,
   "id": "fc60bc32",
   "metadata": {},
   "outputs": [
    {
     "data": {
      "text/plain": [
       "12.0"
      ]
     },
     "execution_count": 22,
     "metadata": {},
     "output_type": "execute_result"
    }
   ],
   "source": [
    "median = df[\"Temperature (C)\"].median()\n",
    "median"
   ]
  },
  {
   "cell_type": "code",
   "execution_count": 23,
   "id": "89a73c72",
   "metadata": {},
   "outputs": [
    {
     "data": {
      "text/plain": [
       "11.932678437511868"
      ]
     },
     "execution_count": 23,
     "metadata": {},
     "output_type": "execute_result"
    }
   ],
   "source": [
    "mean = df[\"Temperature (C)\"].mean()\n",
    "mean"
   ]
  },
  {
   "cell_type": "markdown",
   "id": "b6fd1587",
   "metadata": {},
   "source": [
    "Actually, in my dataset the \"Temperature (C)\" column has no missing values, but here is an example how we can replace it in case there was some NaN values. "
   ]
  },
  {
   "cell_type": "code",
   "execution_count": 24,
   "id": "f813025c",
   "metadata": {},
   "outputs": [],
   "source": [
    "df[\"Temperature (C)\"].fillna(median, inplace = True)"
   ]
  },
  {
   "cell_type": "markdown",
   "id": "e352e5ed",
   "metadata": {},
   "source": [
    "#### Solution 4 : replace the missing values using KNNImputer, used with only numerical features"
   ]
  },
  {
   "cell_type": "code",
   "execution_count": 25,
   "id": "2c1d1a7c",
   "metadata": {},
   "outputs": [
    {
     "data": {
      "text/plain": [
       "Temperature (C)             0\n",
       "Apparent Temperature (C)    0\n",
       "Humidity                    0\n",
       "Wind Speed (km/h)           0\n",
       "Wind Bearing (degrees)      0\n",
       "Visibility (km)             0\n",
       "Pressure (millibars)        0\n",
       "dtype: int64"
      ]
     },
     "execution_count": 25,
     "metadata": {},
     "output_type": "execute_result"
    }
   ],
   "source": [
    "imputer = KNNImputer()\n",
    "imp_data = pd.DataFrame(imputer.fit_transform(df_select), columns=df_select.columns)\n",
    "imp_data.isna().sum()"
   ]
  },
  {
   "cell_type": "markdown",
   "id": "c2496648",
   "metadata": {},
   "source": [
    "### 4.3- Checking categorical data\n",
    "Moreover, It is possible to detect missing values for both categorical and numerical features using the next plot. \n",
    "\n",
    "- The red color corresponds to Numerical variables\n",
    "- The black color corresponds to Categeroical variables\n",
    "- White or grey color corresponds to NaN"
   ]
  },
  {
   "cell_type": "code",
   "execution_count": 26,
   "id": "f3a83495",
   "metadata": {},
   "outputs": [
    {
     "data": {
      "image/png": "[encoded data removed]",
      "text/plain": [
       "<Figure size 1200x480 with 1 Axes>"
      ]
     },
     "metadata": {},
     "output_type": "display_data"
    },
    {
     "name": "stdout",
     "output_type": "stream",
     "text": [
      "\u001b[1;37;40m Categerocial  \u001b[1;30;41m Numeric  \u001b[1;30;47m NaN \n"
     ]
    }
   ],
   "source": [
    "dic_cols = {col:utils_recognize_type(df3, col, max_cat=15) for col in df.columns}\n",
    "heatmap = df.isnull()\n",
    "for k,v in dic_cols.items():\n",
    "    if v == \"num\":\n",
    "        heatmap[k] = heatmap[k].apply(lambda x: 0.5 if x is False else 1)\n",
    "    else:\n",
    "        heatmap[k] = heatmap[k].apply(lambda x: 0 if x is False else 1)\n",
    "figure(figsize=(15, 6), dpi=80)\n",
    "sns.heatmap(heatmap, cbar=False).set_title('Dataset Overview')\n",
    "plt.show()\n",
    "print(\"\\033[1;37;40m Categerocial \", \"\\033[1;30;41m Numeric \", \"\\033[1;30;47m NaN \")"
   ]
  },
  {
   "cell_type": "markdown",
   "id": "a3a0839b",
   "metadata": {},
   "source": [
    "Categorical data is a type of divided data into groups. Each group is composed by data of similar characteristics. However, numerical data is a type of data that expresses information in the form of numbers\n",
    "Example of categorical data: gender, sex, race etc."
   ]
  },
  {
   "cell_type": "markdown",
   "id": "578388b4",
   "metadata": {},
   "source": [
    "### 4.4- Handling the Outliers\n",
    "Outliers are some extremely deviated values in our data from other observations. The existence of those outliers could lead to variances in results and can impact our analysis outcomes and we may end up drawing the wrong conclusions.\n",
    "\n",
    "Manyreasons are behind outliers appearance : \n",
    "- Data entry errors : human errors during data collections\n",
    "- Measurement errors or instrument errors\n",
    "- Sampling errors\n",
    "- Data processing error : occurs during data mining\n",
    "- Natural novelties in data : natural outliers, which are not caused by any error\n",
    "\n",
    "#### a. Finding the Outliers\n",
    "\n",
    "- Only numerical columns are considered in ouliers analysis \n",
    "- Outliers can be detected using:\n",
    "    - Some statistical plots such as Box Plot, Scatter Plot and Histogram Plot (the most used ones).\n",
    "    - Interquartile range \n",
    "    - Z-score\n",
    "    \n",
    " "
   ]
  },
  {
   "cell_type": "markdown",
   "id": "6b4f5704",
   "metadata": {},
   "source": [
    "##### a.1- Detection:  Uni-variate Analysis (boxplot)\n",
    "A box and whisker plot—also called a box plot—displays the five-number summary of a set of data. The five-number summary is the minimum, first quartile, median, third quartile, and maximum.\n",
    "Here in the next pciture, there is Box Plot Explained : \n",
    "\n",
    "<div>\n",
    "<img src=\"images/box-whisker-plot.jpg\" width=\"500\"/>\n",
    "</div>\n",
    "\n",
    "\n"
   ]
  },
  {
   "cell_type": "code",
   "execution_count": 27,
   "id": "e56669cb",
   "metadata": {},
   "outputs": [
    {
     "data": {
      "text/plain": [
       "<AxesSubplot:xlabel='Humidity'>"
      ]
     },
     "execution_count": 27,
     "metadata": {},
     "output_type": "execute_result"
    },
    {
     "data": {
      "text/plain": [
       "<Figure size 640x480 with 0 Axes>"
      ]
     },
     "metadata": {},
     "output_type": "display_data"
    },
    {
     "data": {
      "image/png": "[encoded data removed]",
      "text/plain": [
       "<Figure size 1500x400 with 3 Axes>"
      ]
     },
     "metadata": {},
     "output_type": "display_data"
    }
   ],
   "source": [
    "plt.figure()\n",
    "figure(figsize=(15, 4))\n",
    "plt.subplot(1,3,1)\n",
    "sns.boxplot(x=df3['Apparent Temperature (C)'])\n",
    "plt.subplot(1,3,2)\n",
    "sns.boxplot(x=df3['Temperature (C)'])\n",
    "plt.subplot(1,3,3)\n",
    "sns.boxplot(x=df3['Humidity'])"
   ]
  },
  {
   "cell_type": "code",
   "execution_count": 28,
   "id": "efecd6ef",
   "metadata": {},
   "outputs": [
    {
     "data": {
      "text/plain": [
       "<AxesSubplot:xlabel='Visibility (km)'>"
      ]
     },
     "execution_count": 28,
     "metadata": {},
     "output_type": "execute_result"
    },
    {
     "data": {
      "text/plain": [
       "<Figure size 640x480 with 0 Axes>"
      ]
     },
     "metadata": {},
     "output_type": "display_data"
    },
    {
     "data": {
      "image/png": "[encoded data removed]",
      "text/plain": [
       "<Figure size 1500x400 with 3 Axes>"
      ]
     },
     "metadata": {},
     "output_type": "display_data"
    }
   ],
   "source": [
    "plt.figure()\n",
    "figure(figsize=(15, 4))\n",
    "plt.subplot(1,3,1)\n",
    "sns.boxplot(x=df3['Wind Speed (km/h)'])\n",
    "plt.subplot(1,3,2)\n",
    "sns.boxplot(x=df3['Wind Bearing (degrees)'])\n",
    "plt.subplot(1,3,3)\n",
    "sns.boxplot(x=df3['Visibility (km)'])"
   ]
  },
  {
   "cell_type": "markdown",
   "id": "6dd9268e",
   "metadata": {},
   "source": [
    "From the Figures above, it is clear that two columns `Wind Bearing (degrees)` and `Visibility (km)` does not have any outliers while other columns have some ouliers that should be removed for better results"
   ]
  },
  {
   "cell_type": "markdown",
   "id": "96b5b95d",
   "metadata": {},
   "source": [
    "##### a.2- Detection: Bi-variate Analysis (scatter plot)\n",
    "A scatter plot (aka scatter chart, scatter graph) uses dots to represent values for two different numeric variables. The position of each dot on the horizontal and vertical axis indicates values for an individual data point. Scatter plots are used to observe relationships between variables. "
   ]
  },
  {
   "cell_type": "code",
   "execution_count": 29,
   "id": "d57d6444",
   "metadata": {},
   "outputs": [
    {
     "data": {
      "image/png": "[encoded data removed]",
      "text/plain": [
       "<Figure size 640x480 with 1 Axes>"
      ]
     },
     "metadata": {},
     "output_type": "display_data"
    }
   ],
   "source": [
    "plt.figure()\n",
    "plt.scatter(df3['Humidity'], df3['Temperature (C)'] )\n",
    "plt.title('Temperature (C) variation versus Humidity')\n",
    "plt.xlabel('Humidity')\n",
    "plt.ylabel('Temperature (C)')\n",
    "plt.show()"
   ]
  },
  {
   "cell_type": "code",
   "execution_count": 30,
   "id": "5f88f193",
   "metadata": {},
   "outputs": [
    {
     "data": {
      "text/plain": [
       "<Figure size 640x480 with 0 Axes>"
      ]
     },
     "metadata": {},
     "output_type": "display_data"
    },
    {
     "data": {
      "image/png": "[encoded data removed]",
      "text/plain": [
       "<Figure size 640x480 with 1 Axes>"
      ]
     },
     "metadata": {},
     "output_type": "display_data"
    }
   ],
   "source": [
    "plt.figure()\n",
    "df.plot.scatter(x = 'Humidity', y = 'Temperature (C)')\n",
    "plt.title('Temperature (C) variation versus Humidity')\n",
    "plt.xlabel('Humidity')\n",
    "plt.ylabel('Temperature (C)')\n",
    "plt.show()"
   ]
  },
  {
   "cell_type": "markdown",
   "id": "5128edb5",
   "metadata": {},
   "source": [
    "It seems that the next two columns `Wind Speed (km/h)` and `Pressure (millibars)` columns have a higher number of outliers and they should be removed."
   ]
  },
  {
   "cell_type": "code",
   "execution_count": 31,
   "id": "d525bdd7",
   "metadata": {},
   "outputs": [
    {
     "name": "stdout",
     "output_type": "stream",
     "text": [
      "Outliers in \"Temperature (C)\": 0.04%\n",
      "Outliers in \"Apparent Temperature (C)\": 0.02%\n",
      "Outliers in \"Humidity\": 0.05%\n",
      "Outliers in \"Wind Speed (km/h)\": 3.11%\n",
      "Outliers in \"Wind Bearing (degrees)\": 0.0%\n",
      "Outliers in \"Visibility (km)\": 0.0%\n",
      "Outliers in \"Loud Cover\": 0.0%\n",
      "Outliers in \"Pressure (millibars)\": 4.61%\n"
     ]
    }
   ],
   "source": [
    "#Calulating outliers for all columns using the function outlier_percent defined at the beginning \n",
    "df_selct=['Temperature (C)',\n",
    "       'Apparent Temperature (C)', 'Humidity', 'Wind Speed (km/h)',\n",
    "       'Wind Bearing (degrees)', 'Visibility (km)', 'Loud Cover',\n",
    "       'Pressure (millibars)']\n",
    "for column in df_selct:\n",
    "    data1 = df3[column]\n",
    "    percent = str(round(outlier_percent(data1), 2))\n",
    "    print(f'Outliers in \"{column}\": {percent}%')"
   ]
  },
  {
   "cell_type": "markdown",
   "id": "196d48dd",
   "metadata": {},
   "source": [
    "#### b. Dealing with Outliers\n",
    "\n",
    "Here are some methods about how we handle outliers : \n",
    "- Deleting the values: removing the value completely, if we are sure that this value is wrong and it will never occur again (using Interquartile range or Z-score)\n",
    "- Replace the values: change the values if we know the reason for the outliers. (Example: 99th percentile)\n",
    "- Data transformation: some times data transformation such as natural log reduces the variation caused by the extreme values. Most used for highly skewed data sets.\n",
    "\n",
    "It is important to understand reasons and causes behind the existence of outliers as it can demonstrate valuable evidences to better understand the data and any process performance behind. However, deleting outliers is not an optimal solution as it can contains precious information."
   ]
  },
  {
   "cell_type": "markdown",
   "id": "629c899b",
   "metadata": {},
   "source": [
    "### b.1 Detecting and Removing:  Interquartile range\n",
    "              \n",
    "**IQR = Q3-Q1**\n",
    "\n",
    "The interquartile range (IQR) is a measure of statistical dispersion, which is the spread of the data. Actually, it\n",
    "tells you the spread of the middle half of your distribution.\n",
    "\n",
    " **What is a quartile ?**\n",
    "\n",
    "In statistics, a quartile is a type of quantile which divides the number of data points into four equal parts (called also quarters) means with equal size. Moreover, the data must be ordered from smallest to largest to compute quartiles. The three main quartiles are as follows:\n",
    "\n",
    "    - Q1 : the first quartile, called also lower quartile as it corresponds to 25% of your data and 25% of your data is below this point, it is defined as the middle number between the smallest number (minimum) and the median of the data set.\n",
    "    - Q2 : the second quartile which corresponds to the median of a data set. Thus 50% of the data lies below this point.\n",
    "    - Q3 :  the third quartile which corresponds to the middle value between the median and the highest value (maximum) of the data set. It is also known as the upper quartile, as 75% of the data lies below this point."
   ]
  },
  {
   "cell_type": "code",
   "execution_count": 32,
   "id": "42750ebd",
   "metadata": {},
   "outputs": [],
   "source": [
    "#Calculating the outliers for Pressure (millibars) \n",
    "Q1 = df3['Pressure (millibars)'].quantile(0.25)\n",
    "Q3 = df3['Pressure (millibars)'].quantile(0.75)\n",
    "IQR = Q3 - Q1"
   ]
  },
  {
   "cell_type": "code",
   "execution_count": 33,
   "id": "f8179d4e",
   "metadata": {},
   "outputs": [
    {
     "name": "stdout",
     "output_type": "stream",
     "text": [
      "The value of Q1 is: 1011.89\n",
      "The value of Q3 is: 1021.05\n",
      "The value of IQR is: 9.159999999999968\n"
     ]
    }
   ],
   "source": [
    "print(\"The value of Q1 is:\",Q1)\n",
    "print(\"The value of Q3 is:\",Q3)\n",
    "print(\"The value of IQR is:\",IQR)"
   ]
  },
  {
   "cell_type": "code",
   "execution_count": 34,
   "id": "2d57e815",
   "metadata": {},
   "outputs": [
    {
     "name": "stdout",
     "output_type": "stream",
     "text": [
      "The value of upper bound is: 1035\n",
      "The value of lower bound is: 998\n"
     ]
    }
   ],
   "source": [
    "LOWER = Q1 - (1.5 * IQR)\n",
    "UPPER = Q3 + (1.5 * IQR)\n",
    "print(\"The value of upper bound is:\",round(UPPER))\n",
    "print(\"The value of lower bound is:\",round(LOWER))"
   ]
  },
  {
   "cell_type": "code",
   "execution_count": 35,
   "id": "789b9d10",
   "metadata": {},
   "outputs": [
    {
     "data": {
      "text/plain": [
       "4.6103652434956635"
      ]
     },
     "execution_count": 35,
     "metadata": {},
     "output_type": "execute_result"
    }
   ],
   "source": [
    "num_outliers =  np.sum((df3['Pressure (millibars)'] < LOWER) |(df3['Pressure (millibars)'] > UPPER))\n",
    "num_total = df3['Pressure (millibars)'].count()\n",
    "(num_outliers/num_total)*100   "
   ]
  },
  {
   "cell_type": "markdown",
   "id": "4e0743ca",
   "metadata": {},
   "source": [
    "We have 4.6% of our `Pressure (millibars)` values are belonging to outliers and should be removed. \n",
    "\n",
    "In the next cell, we are removing ouliers : values under lower threshold and above upper threshold."
   ]
  },
  {
   "cell_type": "code",
   "execution_count": 36,
   "id": "ac1b1232",
   "metadata": {},
   "outputs": [
    {
     "data": {
      "text/html": [
       "<div>\n",
       "<style scoped>\n",
       "    .dataframe tbody tr th:only-of-type {\n",
       "        vertical-align: middle;\n",
       "    }\n",
       "\n",
       "    .dataframe tbody tr th {\n",
       "        vertical-align: top;\n",
       "    }\n",
       "\n",
       "    .dataframe thead th {\n",
       "        text-align: right;\n",
       "    }\n",
       "</style>\n",
       "<table border=\"1\" class=\"dataframe\">\n",
       "  <thead>\n",
       "    <tr style=\"text-align: right;\">\n",
       "      <th></th>\n",
       "      <th>Formatted Date</th>\n",
       "      <th>Summary</th>\n",
       "      <th>Precip Type</th>\n",
       "      <th>Temperature (C)</th>\n",
       "      <th>Apparent Temperature (C)</th>\n",
       "      <th>Humidity</th>\n",
       "      <th>Wind Speed (km/h)</th>\n",
       "      <th>Wind Bearing (degrees)</th>\n",
       "      <th>Visibility (km)</th>\n",
       "      <th>Loud Cover</th>\n",
       "      <th>Pressure (millibars)</th>\n",
       "      <th>Daily Summary</th>\n",
       "    </tr>\n",
       "  </thead>\n",
       "  <tbody>\n",
       "    <tr>\n",
       "      <th>0</th>\n",
       "      <td>2006-04-01 00:00:00.000 +0200</td>\n",
       "      <td>Partly Cloudy</td>\n",
       "      <td>rain</td>\n",
       "      <td>9.472222</td>\n",
       "      <td>7.388889</td>\n",
       "      <td>0.89</td>\n",
       "      <td>14.1197</td>\n",
       "      <td>251.0</td>\n",
       "      <td>15.8263</td>\n",
       "      <td>0.0</td>\n",
       "      <td>1015.13</td>\n",
       "      <td>Partly cloudy throughout the day.</td>\n",
       "    </tr>\n",
       "    <tr>\n",
       "      <th>1</th>\n",
       "      <td>2006-04-01 01:00:00.000 +0200</td>\n",
       "      <td>Partly Cloudy</td>\n",
       "      <td>rain</td>\n",
       "      <td>9.355556</td>\n",
       "      <td>7.227778</td>\n",
       "      <td>0.86</td>\n",
       "      <td>14.2646</td>\n",
       "      <td>259.0</td>\n",
       "      <td>15.8263</td>\n",
       "      <td>0.0</td>\n",
       "      <td>1015.63</td>\n",
       "      <td>Partly cloudy throughout the day.</td>\n",
       "    </tr>\n",
       "  </tbody>\n",
       "</table>\n",
       "</div>"
      ],
      "text/plain": [
       "                  Formatted Date        Summary Precip Type  Temperature (C)  \\\n",
       "0  2006-04-01 00:00:00.000 +0200  Partly Cloudy        rain         9.472222   \n",
       "1  2006-04-01 01:00:00.000 +0200  Partly Cloudy        rain         9.355556   \n",
       "\n",
       "   Apparent Temperature (C)  Humidity  Wind Speed (km/h)  \\\n",
       "0                  7.388889      0.89            14.1197   \n",
       "1                  7.227778      0.86            14.2646   \n",
       "\n",
       "   Wind Bearing (degrees)  Visibility (km)  Loud Cover  Pressure (millibars)  \\\n",
       "0                   251.0          15.8263         0.0               1015.13   \n",
       "1                   259.0          15.8263         0.0               1015.63   \n",
       "\n",
       "                       Daily Summary  \n",
       "0  Partly cloudy throughout the day.  \n",
       "1  Partly cloudy throughout the day.  "
      ]
     },
     "execution_count": 36,
     "metadata": {},
     "output_type": "execute_result"
    }
   ],
   "source": [
    "clean_data=df3[~((df3['Pressure (millibars)']<(LOWER))  |  (df3['Pressure (millibars)']>(UPPER)))]\n",
    "clean_data.head(2)"
   ]
  },
  {
   "cell_type": "code",
   "execution_count": 37,
   "id": "a1dd5e5f",
   "metadata": {},
   "outputs": [],
   "source": [
    "#Calculating the outliers for Wind Speed (km/h)\n",
    "Q1 = df3['Wind Speed (km/h)'].quantile(0.25)\n",
    "Q3 = df3['Wind Speed (km/h)'].quantile(0.75)\n",
    "IQR = Q3 - Q1"
   ]
  },
  {
   "cell_type": "code",
   "execution_count": 38,
   "id": "a2cb9a04",
   "metadata": {},
   "outputs": [
    {
     "name": "stdout",
     "output_type": "stream",
     "text": [
      "The value of Q1 is: 5.796\n",
      "The value of Q3 is: 14.1358\n",
      "The value of IQR is: 8.3398\n"
     ]
    }
   ],
   "source": [
    "print(\"The value of Q1 is:\",Q1)\n",
    "print(\"The value of Q3 is:\",Q3)\n",
    "print(\"The value of IQR is:\",IQR)"
   ]
  },
  {
   "cell_type": "code",
   "execution_count": 39,
   "id": "d4b01378",
   "metadata": {},
   "outputs": [
    {
     "data": {
      "text/plain": [
       "3.1135340226817876"
      ]
     },
     "execution_count": 39,
     "metadata": {},
     "output_type": "execute_result"
    }
   ],
   "source": [
    "LOWER = Q1 - (1.5 * IQR)\n",
    "UPPER = Q3 + (1.5 * IQR)\n",
    "num_outliers =  np.sum((df3['Wind Speed (km/h)'] < LOWER) |(df3['Wind Speed (km/h)'] > UPPER))\n",
    "num_total = df3['Wind Speed (km/h)'].count()\n",
    "(num_outliers/num_total)*100  "
   ]
  },
  {
   "cell_type": "markdown",
   "id": "a5ba05e3",
   "metadata": {},
   "source": [
    "We have 3% of `Wind Speed (km/h)` values are belonging to outliers and should be removed"
   ]
  },
  {
   "cell_type": "code",
   "execution_count": 40,
   "id": "5c525b19",
   "metadata": {},
   "outputs": [
    {
     "data": {
      "text/html": [
       "<div>\n",
       "<style scoped>\n",
       "    .dataframe tbody tr th:only-of-type {\n",
       "        vertical-align: middle;\n",
       "    }\n",
       "\n",
       "    .dataframe tbody tr th {\n",
       "        vertical-align: top;\n",
       "    }\n",
       "\n",
       "    .dataframe thead th {\n",
       "        text-align: right;\n",
       "    }\n",
       "</style>\n",
       "<table border=\"1\" class=\"dataframe\">\n",
       "  <thead>\n",
       "    <tr style=\"text-align: right;\">\n",
       "      <th></th>\n",
       "      <th>Formatted Date</th>\n",
       "      <th>Summary</th>\n",
       "      <th>Precip Type</th>\n",
       "      <th>Temperature (C)</th>\n",
       "      <th>Apparent Temperature (C)</th>\n",
       "      <th>Humidity</th>\n",
       "      <th>Wind Speed (km/h)</th>\n",
       "      <th>Wind Bearing (degrees)</th>\n",
       "      <th>Visibility (km)</th>\n",
       "      <th>Loud Cover</th>\n",
       "      <th>Pressure (millibars)</th>\n",
       "      <th>Daily Summary</th>\n",
       "    </tr>\n",
       "  </thead>\n",
       "  <tbody>\n",
       "    <tr>\n",
       "      <th>0</th>\n",
       "      <td>2006-04-01 00:00:00.000 +0200</td>\n",
       "      <td>Partly Cloudy</td>\n",
       "      <td>rain</td>\n",
       "      <td>9.472222</td>\n",
       "      <td>7.388889</td>\n",
       "      <td>0.89</td>\n",
       "      <td>14.1197</td>\n",
       "      <td>251.0</td>\n",
       "      <td>15.8263</td>\n",
       "      <td>0.0</td>\n",
       "      <td>1015.13</td>\n",
       "      <td>Partly cloudy throughout the day.</td>\n",
       "    </tr>\n",
       "    <tr>\n",
       "      <th>1</th>\n",
       "      <td>2006-04-01 01:00:00.000 +0200</td>\n",
       "      <td>Partly Cloudy</td>\n",
       "      <td>rain</td>\n",
       "      <td>9.355556</td>\n",
       "      <td>7.227778</td>\n",
       "      <td>0.86</td>\n",
       "      <td>14.2646</td>\n",
       "      <td>259.0</td>\n",
       "      <td>15.8263</td>\n",
       "      <td>0.0</td>\n",
       "      <td>1015.63</td>\n",
       "      <td>Partly cloudy throughout the day.</td>\n",
       "    </tr>\n",
       "  </tbody>\n",
       "</table>\n",
       "</div>"
      ],
      "text/plain": [
       "                  Formatted Date        Summary Precip Type  Temperature (C)  \\\n",
       "0  2006-04-01 00:00:00.000 +0200  Partly Cloudy        rain         9.472222   \n",
       "1  2006-04-01 01:00:00.000 +0200  Partly Cloudy        rain         9.355556   \n",
       "\n",
       "   Apparent Temperature (C)  Humidity  Wind Speed (km/h)  \\\n",
       "0                  7.388889      0.89            14.1197   \n",
       "1                  7.227778      0.86            14.2646   \n",
       "\n",
       "   Wind Bearing (degrees)  Visibility (km)  Loud Cover  Pressure (millibars)  \\\n",
       "0                   251.0          15.8263         0.0               1015.13   \n",
       "1                   259.0          15.8263         0.0               1015.63   \n",
       "\n",
       "                       Daily Summary  \n",
       "0  Partly cloudy throughout the day.  \n",
       "1  Partly cloudy throughout the day.  "
      ]
     },
     "execution_count": 40,
     "metadata": {},
     "output_type": "execute_result"
    }
   ],
   "source": [
    "clean_data1=clean_data[~((clean_data['Wind Speed (km/h)']<(LOWER))  |  (clean_data['Wind Speed (km/h)']>(UPPER)))]\n",
    "clean_data1.head(2)"
   ]
  },
  {
   "cell_type": "markdown",
   "id": "81304475",
   "metadata": {},
   "source": [
    "### b.2 - Detecting and Removing : Z-Score\n",
    "\n",
    "**Removing outliers for the `Pressure (millibars)`**"
   ]
  },
  {
   "cell_type": "code",
   "execution_count": 41,
   "id": "655171ce",
   "metadata": {},
   "outputs": [
    {
     "name": "stdout",
     "output_type": "stream",
     "text": [
      "mean of the Pressure (millibars) is : 1003.1500376292687\n",
      "std. deviation of the Pressure (millibars) is : 117.27636503519463\n"
     ]
    }
   ],
   "source": [
    "# Detecting outliers for Pressure (millibars)\n",
    "mean = np.mean(df3[\"Pressure (millibars)\"]) \n",
    "std = np.std(df3[\"Pressure (millibars)\"]) \n",
    "print('mean of the Pressure (millibars) is :', mean) \n",
    "print('std. deviation of the Pressure (millibars) is :', std) "
   ]
  },
  {
   "cell_type": "code",
   "execution_count": 42,
   "id": "cae20c73",
   "metadata": {},
   "outputs": [
    {
     "name": "stdout",
     "output_type": "stream",
     "text": [
      "z-score of 3 corresponds to a prob of 0.27%\n",
      "Rejection 1288 points\n",
      "Outliers in Pressure (millibars) is : 1.3425617078052035\n"
     ]
    }
   ],
   "source": [
    "threshold =3 # can be also 2 or 4\n",
    "z_score = np.abs((df3[\"Pressure (millibars)\"] - mean) / std)\n",
    "good = z_score < threshold   ### Bad are those with False\n",
    "num_outliers=np.sum(good==False)\n",
    "print(f\"z-score of {threshold} corresponds to a prob of {100 * 2 * norm.sf(3):0.2f}%\")\n",
    "print(f\"Rejection {(~good).sum()} points\")\n",
    "print('Outliers in Pressure (millibars) is :',(num_outliers/num_total)*100)  "
   ]
  },
  {
   "cell_type": "code",
   "execution_count": 43,
   "id": "85ec4117",
   "metadata": {},
   "outputs": [],
   "source": [
    "def z_score(dataframe, threshold=1):\n",
    "    mean, std = np.mean(dataframe), np.std(dataframe)\n",
    "    z_score = np.abs((dataframe - mean) / std)\n",
    "    good = z_score < threshold\n",
    "    print(f\"z-score of {threshold} corresponds to a prob of {100 * 2 * norm.sf(3):0.2f}%\")\n",
    "    print(f\"Rejection {(~good).sum()} points\")\n",
    "    return good"
   ]
  },
  {
   "cell_type": "code",
   "execution_count": 44,
   "id": "417541bf",
   "metadata": {},
   "outputs": [
    {
     "name": "stdout",
     "output_type": "stream",
     "text": [
      "z-score of 2 corresponds to a prob of 0.27%\n",
      "Rejection 1288 points\n",
      "z-score of 3 corresponds to a prob of 0.27%\n",
      "Rejection 1288 points\n",
      "z-score of 4 corresponds to a prob of 0.27%\n",
      "Rejection 1288 points\n",
      "z-score of 5 corresponds to a prob of 0.27%\n",
      "Rejection 1288 points\n"
     ]
    },
    {
     "data": {
      "image/png": "[encoded data removed]",
      "text/plain": [
       "<Figure size 1200x1000 with 4 Axes>"
      ]
     },
     "metadata": {},
     "output_type": "display_data"
    }
   ],
   "source": [
    "data=df3[\"Pressure (millibars)\"]\n",
    "plt.figure(figsize=(12, 10))\n",
    "for i, threshold in zip(range(1, 5), range(2, 6)):\n",
    "    plt.subplot(2, 2, i)\n",
    "    visual_scatter = np.random.normal(size=data.shape[0])\n",
    "    good = z_score(data, threshold=threshold)\n",
    "    plt.scatter(data[good], visual_scatter[good], s=10, label=\"Good\", color=\"#4CAF50\")\n",
    "    plt.scatter(data[~good], visual_scatter[~good], s=10, label=\"Bad\", color=\"#F44336\")\n",
    "    plt.legend()\n",
    "    plt.title(f\"Pressure (millibars) Outliers (threshold={threshold})\")\n",
    "plt.tight_layout()"
   ]
  },
  {
   "cell_type": "markdown",
   "id": "570d6597",
   "metadata": {},
   "source": [
    "`( < 3).all(axis=1)` checks if, for each row, all column values are within 3 standard deviations from the mean"
   ]
  },
  {
   "cell_type": "code",
   "execution_count": 45,
   "id": "a2526050",
   "metadata": {},
   "outputs": [],
   "source": [
    "#method 1\n",
    "z = np.abs(stats.zscore(df_select))\n",
    "#only keep rows in dataframe with all z-scores less than absolute value of 3 \n",
    "data_clean2 = df_select[(z<3).all(axis=1)]"
   ]
  },
  {
   "cell_type": "code",
   "execution_count": 46,
   "id": "0951b8e6",
   "metadata": {},
   "outputs": [
    {
     "data": {
      "text/html": [
       "<div>\n",
       "<style scoped>\n",
       "    .dataframe tbody tr th:only-of-type {\n",
       "        vertical-align: middle;\n",
       "    }\n",
       "\n",
       "    .dataframe tbody tr th {\n",
       "        vertical-align: top;\n",
       "    }\n",
       "\n",
       "    .dataframe thead th {\n",
       "        text-align: right;\n",
       "    }\n",
       "</style>\n",
       "<table border=\"1\" class=\"dataframe\">\n",
       "  <thead>\n",
       "    <tr style=\"text-align: right;\">\n",
       "      <th></th>\n",
       "      <th>Temperature (C)</th>\n",
       "      <th>Apparent Temperature (C)</th>\n",
       "      <th>Humidity</th>\n",
       "      <th>Wind Speed (km/h)</th>\n",
       "      <th>Wind Bearing (degrees)</th>\n",
       "      <th>Visibility (km)</th>\n",
       "      <th>Pressure (millibars)</th>\n",
       "    </tr>\n",
       "  </thead>\n",
       "  <tbody>\n",
       "    <tr>\n",
       "      <th>0</th>\n",
       "      <td>9.472222</td>\n",
       "      <td>7.388889</td>\n",
       "      <td>0.89</td>\n",
       "      <td>14.1197</td>\n",
       "      <td>251.0</td>\n",
       "      <td>15.8263</td>\n",
       "      <td>1015.13</td>\n",
       "    </tr>\n",
       "    <tr>\n",
       "      <th>1</th>\n",
       "      <td>9.355556</td>\n",
       "      <td>7.227778</td>\n",
       "      <td>0.86</td>\n",
       "      <td>14.2646</td>\n",
       "      <td>259.0</td>\n",
       "      <td>15.8263</td>\n",
       "      <td>1015.63</td>\n",
       "    </tr>\n",
       "  </tbody>\n",
       "</table>\n",
       "</div>"
      ],
      "text/plain": [
       "   Temperature (C)  Apparent Temperature (C)  Humidity  Wind Speed (km/h)  \\\n",
       "0         9.472222                  7.388889      0.89            14.1197   \n",
       "1         9.355556                  7.227778      0.86            14.2646   \n",
       "\n",
       "   Wind Bearing (degrees)  Visibility (km)  Pressure (millibars)  \n",
       "0                   251.0          15.8263               1015.13  \n",
       "1                   259.0          15.8263               1015.63  "
      ]
     },
     "execution_count": 46,
     "metadata": {},
     "output_type": "execute_result"
    }
   ],
   "source": [
    "# method 2\n",
    "data_clean3=df_select[(np.abs(stats.zscore(df_select)) < 3).all(axis=1)]\n",
    "data_clean3.head(2)"
   ]
  },
  {
   "cell_type": "markdown",
   "id": "50a785b3",
   "metadata": {},
   "source": [
    "In the next cell, I am removing outliers based on one column `Pressure (millibars)` values"
   ]
  },
  {
   "cell_type": "code",
   "execution_count": 47,
   "id": "7e0e4ae3",
   "metadata": {},
   "outputs": [],
   "source": [
    "#method 3 \n",
    "data_clean4=df_select[np.abs(stats.zscore(df_select['Pressure (millibars)'])) < 3]"
   ]
  },
  {
   "cell_type": "code",
   "execution_count": 48,
   "id": "e9110227",
   "metadata": {},
   "outputs": [],
   "source": [
    "# threshold = 3\n",
    "# outlier = [] \n",
    "# for i in df3[\"Pressure (millibars)\"]: \n",
    "#     z = np.abs((i-mean)/std)\n",
    "#     #print(z)\n",
    "#     if z > threshold:\n",
    "#         outlier.append(i) \n",
    "# #print('outlier in dataset is', outlier) "
   ]
  },
  {
   "cell_type": "markdown",
   "id": "37079377",
   "metadata": {},
   "source": [
    "#### b.3- Detecting and Removing : 99th-percentile"
   ]
  },
  {
   "cell_type": "code",
   "execution_count": 49,
   "id": "432879f6",
   "metadata": {},
   "outputs": [
    {
     "data": {
      "text/html": [
       "<div>\n",
       "<style scoped>\n",
       "    .dataframe tbody tr th:only-of-type {\n",
       "        vertical-align: middle;\n",
       "    }\n",
       "\n",
       "    .dataframe tbody tr th {\n",
       "        vertical-align: top;\n",
       "    }\n",
       "\n",
       "    .dataframe thead th {\n",
       "        text-align: right;\n",
       "    }\n",
       "</style>\n",
       "<table border=\"1\" class=\"dataframe\">\n",
       "  <thead>\n",
       "    <tr style=\"text-align: right;\">\n",
       "      <th></th>\n",
       "      <th>Temperature (C)</th>\n",
       "      <th>Apparent Temperature (C)</th>\n",
       "      <th>Humidity</th>\n",
       "      <th>Wind Speed (km/h)</th>\n",
       "      <th>Wind Bearing (degrees)</th>\n",
       "      <th>Visibility (km)</th>\n",
       "      <th>Pressure (millibars)</th>\n",
       "    </tr>\n",
       "  </thead>\n",
       "  <tbody>\n",
       "    <tr>\n",
       "      <th>0</th>\n",
       "      <td>9.472222</td>\n",
       "      <td>7.388889</td>\n",
       "      <td>0.89</td>\n",
       "      <td>14.1197</td>\n",
       "      <td>251.0</td>\n",
       "      <td>15.8263</td>\n",
       "      <td>1015.13</td>\n",
       "    </tr>\n",
       "    <tr>\n",
       "      <th>1</th>\n",
       "      <td>9.355556</td>\n",
       "      <td>7.227778</td>\n",
       "      <td>0.86</td>\n",
       "      <td>14.2646</td>\n",
       "      <td>259.0</td>\n",
       "      <td>15.8263</td>\n",
       "      <td>1015.63</td>\n",
       "    </tr>\n",
       "  </tbody>\n",
       "</table>\n",
       "</div>"
      ],
      "text/plain": [
       "   Temperature (C)  Apparent Temperature (C)  Humidity  Wind Speed (km/h)  \\\n",
       "0         9.472222                  7.388889      0.89            14.1197   \n",
       "1         9.355556                  7.227778      0.86            14.2646   \n",
       "\n",
       "   Wind Bearing (degrees)  Visibility (km)  Pressure (millibars)  \n",
       "0                   251.0          15.8263               1015.13  \n",
       "1                   259.0          15.8263               1015.63  "
      ]
     },
     "execution_count": 49,
     "metadata": {},
     "output_type": "execute_result"
    }
   ],
   "source": [
    "q = df_select[\"Pressure (millibars)\"].quantile(0.99)\n",
    "data_clean5= df_select[df_select[\"Pressure (millibars)\"] < q]\n",
    "data_clean5.head(2)"
   ]
  },
  {
   "cell_type": "markdown",
   "id": "69c7c68b",
   "metadata": {},
   "source": [
    "### b.4- Replacing outliers values with 99th percentile"
   ]
  },
  {
   "cell_type": "code",
   "execution_count": 50,
   "id": "800ebe2e",
   "metadata": {},
   "outputs": [
    {
     "name": "stdout",
     "output_type": "stream",
     "text": [
      "The 99th percentile for is : 32.8923\n"
     ]
    }
   ],
   "source": [
    "#Doing it for the Wind Speed (km/h) column\n",
    "ninety_ninth_percentile=df3['Wind Speed (km/h)'].quantile(0.99)\n",
    "print('The 99th percentile for is :', ninety_ninth_percentile)"
   ]
  },
  {
   "cell_type": "code",
   "execution_count": 51,
   "id": "576121dc",
   "metadata": {},
   "outputs": [
    {
     "name": "stderr",
     "output_type": "stream",
     "text": [
      "/var/folders/tm/jmdv4s594plg8p045mcfsm500000gn/T/ipykernel_2628/1653513497.py:1: SettingWithCopyWarning: \n",
      "A value is trying to be set on a copy of a slice from a DataFrame.\n",
      "Try using .loc[row_indexer,col_indexer] = value instead\n",
      "\n",
      "See the caveats in the documentation: https://pandas.pydata.org/pandas-docs/stable/user_guide/indexing.html#returning-a-view-versus-a-copy\n",
      "  df3['Wind Speed (km/h)']=[33 if x>33 else x for x in df3['Wind Speed (km/h)']]\n"
     ]
    }
   ],
   "source": [
    "df3['Wind Speed (km/h)']=[33 if x>33 else x for x in df3['Wind Speed (km/h)']]"
   ]
  },
  {
   "cell_type": "code",
   "execution_count": null,
   "id": "82e021d8",
   "metadata": {},
   "outputs": [],
   "source": []
  }
 ],
 "metadata": {
  "kernelspec": {
   "display_name": "Python 3 (ipykernel)",
   "language": "python",
   "name": "python3"
  },
  "language_info": {
   "codemirror_mode": {
    "name": "ipython",
    "version": 3
   },
   "file_extension": ".py",
   "mimetype": "text/x-python",
   "name": "python",
   "nbconvert_exporter": "python",
   "pygments_lexer": "ipython3",
   "version": "3.9.12"
  }
 },
 "nbformat": 4,
 "nbformat_minor": 5
}
